{
 "cells": [
  {
   "cell_type": "markdown",
   "id": "df121e05",
   "metadata": {},
   "source": [
    "# imports"
   ]
  },
  {
   "cell_type": "code",
   "execution_count": 3,
   "id": "2458e90b",
   "metadata": {},
   "outputs": [],
   "source": [
    "import numpy as np\n",
    "import matplotlib.pyplot as plt\n",
    "import matplotlib as mpl\n",
    "import pandas as pd\n",
    "\n",
    "from sklearn.model_selection import train_test_split\n",
    "from sklearn.feature_extraction.text import TfidfVectorizer\n",
    "from sklearn.tree import DecisionTreeRegressor\n",
    "from sklearn.metrics import mean_squared_error\n",
    "from sklearn.decomposition import PCA\n",
    "from sklearn.preprocessing import StandardScaler\n",
    "from sklearn.preprocessing import LabelEncoder\n",
    "from sklearn.pipeline import make_pipeline\n",
    "from sklearn.preprocessing import PolynomialFeatures\n",
    "from sklearn.linear_model import LinearRegression\n",
    "from sklearn.metrics import accuracy_score\n",
    "\n",
    "import time\n",
    "\n",
    "\n",
    "from tensorflow.keras.models import Sequential\n",
    "from tensorflow.keras.layers import Embedding, Conv1D, GlobalMaxPooling1D, Flatten, Dense\n",
    "from tensorflow.keras.preprocessing.text import Tokenizer\n",
    "from tensorflow.keras.preprocessing.sequence import pad_sequences\n",
    "from tensorflow.keras.utils import to_categorical\n",
    "\n",
    "\n",
    "from geopy.geocoders import Nominatim\n",
    "from geopy.exc import GeocoderTimedOut"
   ]
  },
  {
   "cell_type": "markdown",
   "id": "2dab6795",
   "metadata": {},
   "source": [
    "# data analysis"
   ]
  },
  {
   "cell_type": "markdown",
   "id": "c339c19b",
   "metadata": {},
   "source": [
    "## format a (vectorizing)"
   ]
  },
  {
   "cell_type": "code",
   "execution_count": 4,
   "id": "5a40884e",
   "metadata": {},
   "outputs": [
    {
     "data": {
      "text/html": [
       "<div>\n",
       "<style scoped>\n",
       "    .dataframe tbody tr th:only-of-type {\n",
       "        vertical-align: middle;\n",
       "    }\n",
       "\n",
       "    .dataframe tbody tr th {\n",
       "        vertical-align: top;\n",
       "    }\n",
       "\n",
       "    .dataframe thead th {\n",
       "        text-align: right;\n",
       "    }\n",
       "</style>\n",
       "<table border=\"1\" class=\"dataframe\">\n",
       "  <thead>\n",
       "    <tr style=\"text-align: right;\">\n",
       "      <th></th>\n",
       "      <th>NORMALS</th>\n",
       "      <th>1981-2010</th>\n",
       "      <th>YRS</th>\n",
       "      <th>JAN</th>\n",
       "      <th>FEB</th>\n",
       "      <th>MAR</th>\n",
       "      <th>APR</th>\n",
       "      <th>MAY</th>\n",
       "      <th>JUN</th>\n",
       "      <th>JUL</th>\n",
       "      <th>AUG</th>\n",
       "      <th>SEP</th>\n",
       "      <th>OCT</th>\n",
       "      <th>NOV</th>\n",
       "      <th>DEC</th>\n",
       "      <th>ANN</th>\n",
       "    </tr>\n",
       "  </thead>\n",
       "  <tbody>\n",
       "    <tr>\n",
       "      <th>0</th>\n",
       "      <td>13876</td>\n",
       "      <td>BIRMINGHAM AP</td>\n",
       "      <td>AL                30</td>\n",
       "      <td>43.8</td>\n",
       "      <td>47.7</td>\n",
       "      <td>55.2</td>\n",
       "      <td>62.5</td>\n",
       "      <td>70.6</td>\n",
       "      <td>77.7</td>\n",
       "      <td>81.1</td>\n",
       "      <td>80.7</td>\n",
       "      <td>74.7</td>\n",
       "      <td>64.1</td>\n",
       "      <td>54.4</td>\n",
       "      <td>46.1</td>\n",
       "      <td>63.2</td>\n",
       "    </tr>\n",
       "    <tr>\n",
       "      <th>1</th>\n",
       "      <td>3856</td>\n",
       "      <td>HUNTSVILLE</td>\n",
       "      <td>AL                   30</td>\n",
       "      <td>41.5</td>\n",
       "      <td>45.7</td>\n",
       "      <td>53.5</td>\n",
       "      <td>61.8</td>\n",
       "      <td>70.3</td>\n",
       "      <td>77.7</td>\n",
       "      <td>80.6</td>\n",
       "      <td>80.1</td>\n",
       "      <td>73.7</td>\n",
       "      <td>62.8</td>\n",
       "      <td>52.7</td>\n",
       "      <td>43.9</td>\n",
       "      <td>62.0</td>\n",
       "    </tr>\n",
       "    <tr>\n",
       "      <th>2</th>\n",
       "      <td>13838</td>\n",
       "      <td>MOBILE</td>\n",
       "      <td>AL                       30</td>\n",
       "      <td>50.2</td>\n",
       "      <td>53.5</td>\n",
       "      <td>59.8</td>\n",
       "      <td>66.4</td>\n",
       "      <td>73.8</td>\n",
       "      <td>79.8</td>\n",
       "      <td>82.1</td>\n",
       "      <td>82.1</td>\n",
       "      <td>78.5</td>\n",
       "      <td>69.2</td>\n",
       "      <td>60.0</td>\n",
       "      <td>52.6</td>\n",
       "      <td>67.3</td>\n",
       "    </tr>\n",
       "    <tr>\n",
       "      <th>3</th>\n",
       "      <td>13895</td>\n",
       "      <td>MONTGOMERY</td>\n",
       "      <td>AL                   30</td>\n",
       "      <td>46.6</td>\n",
       "      <td>50.5</td>\n",
       "      <td>57.5</td>\n",
       "      <td>64.1</td>\n",
       "      <td>72.4</td>\n",
       "      <td>79.0</td>\n",
       "      <td>81.8</td>\n",
       "      <td>81.5</td>\n",
       "      <td>76.3</td>\n",
       "      <td>65.9</td>\n",
       "      <td>56.5</td>\n",
       "      <td>48.5</td>\n",
       "      <td>65.1</td>\n",
       "    </tr>\n",
       "    <tr>\n",
       "      <th>4</th>\n",
       "      <td>26451</td>\n",
       "      <td>ANCHORAGE</td>\n",
       "      <td>AK                    30</td>\n",
       "      <td>17.1</td>\n",
       "      <td>20.2</td>\n",
       "      <td>26.6</td>\n",
       "      <td>36.8</td>\n",
       "      <td>47.8</td>\n",
       "      <td>55.2</td>\n",
       "      <td>58.8</td>\n",
       "      <td>56.7</td>\n",
       "      <td>48.6</td>\n",
       "      <td>34.8</td>\n",
       "      <td>22.2</td>\n",
       "      <td>19.0</td>\n",
       "      <td>37.0</td>\n",
       "    </tr>\n",
       "    <tr>\n",
       "      <th>...</th>\n",
       "      <td>...</td>\n",
       "      <td>...</td>\n",
       "      <td>...</td>\n",
       "      <td>...</td>\n",
       "      <td>...</td>\n",
       "      <td>...</td>\n",
       "      <td>...</td>\n",
       "      <td>...</td>\n",
       "      <td>...</td>\n",
       "      <td>...</td>\n",
       "      <td>...</td>\n",
       "      <td>...</td>\n",
       "      <td>...</td>\n",
       "      <td>...</td>\n",
       "      <td>...</td>\n",
       "      <td>...</td>\n",
       "    </tr>\n",
       "    <tr>\n",
       "      <th>277</th>\n",
       "      <td>40504</td>\n",
       "      <td>POHNPEI-CAROLINE IS.</td>\n",
       "      <td>PC         30</td>\n",
       "      <td>80.7</td>\n",
       "      <td>80.9</td>\n",
       "      <td>81.1</td>\n",
       "      <td>81.1</td>\n",
       "      <td>81.2</td>\n",
       "      <td>81.0</td>\n",
       "      <td>80.8</td>\n",
       "      <td>81.0</td>\n",
       "      <td>80.8</td>\n",
       "      <td>80.8</td>\n",
       "      <td>80.9</td>\n",
       "      <td>80.7</td>\n",
       "      <td>80.9</td>\n",
       "    </tr>\n",
       "    <tr>\n",
       "      <th>278</th>\n",
       "      <td>40505</td>\n",
       "      <td>CHUUK E. CAROLINE IS.</td>\n",
       "      <td>PC        30</td>\n",
       "      <td>81.2</td>\n",
       "      <td>81.3</td>\n",
       "      <td>81.6</td>\n",
       "      <td>81.8</td>\n",
       "      <td>82.1</td>\n",
       "      <td>81.8</td>\n",
       "      <td>81.5</td>\n",
       "      <td>81.3</td>\n",
       "      <td>81.5</td>\n",
       "      <td>81.5</td>\n",
       "      <td>81.8</td>\n",
       "      <td>81.6</td>\n",
       "      <td>81.6</td>\n",
       "    </tr>\n",
       "    <tr>\n",
       "      <th>279</th>\n",
       "      <td>41606</td>\n",
       "      <td>WAKE ISLAND</td>\n",
       "      <td>PC                  30</td>\n",
       "      <td>78.7</td>\n",
       "      <td>78.1</td>\n",
       "      <td>78.6</td>\n",
       "      <td>79.7</td>\n",
       "      <td>81.2</td>\n",
       "      <td>82.9</td>\n",
       "      <td>83.4</td>\n",
       "      <td>83.6</td>\n",
       "      <td>83.7</td>\n",
       "      <td>82.9</td>\n",
       "      <td>81.4</td>\n",
       "      <td>79.9</td>\n",
       "      <td>81.2</td>\n",
       "    </tr>\n",
       "    <tr>\n",
       "      <th>280</th>\n",
       "      <td>40308</td>\n",
       "      <td>YAP-W CAROLINE IS.</td>\n",
       "      <td>PC           30</td>\n",
       "      <td>82.2</td>\n",
       "      <td>82.2</td>\n",
       "      <td>82.6</td>\n",
       "      <td>83.4</td>\n",
       "      <td>83.7</td>\n",
       "      <td>83.0</td>\n",
       "      <td>82.5</td>\n",
       "      <td>82.4</td>\n",
       "      <td>82.6</td>\n",
       "      <td>82.8</td>\n",
       "      <td>82.9</td>\n",
       "      <td>82.6</td>\n",
       "      <td>82.7</td>\n",
       "    </tr>\n",
       "    <tr>\n",
       "      <th>281</th>\n",
       "      <td>11641</td>\n",
       "      <td>SAN JUAN</td>\n",
       "      <td>PR                     30</td>\n",
       "      <td>77.6</td>\n",
       "      <td>77.9</td>\n",
       "      <td>78.9</td>\n",
       "      <td>80.3</td>\n",
       "      <td>81.9</td>\n",
       "      <td>83.3</td>\n",
       "      <td>83.4</td>\n",
       "      <td>83.7</td>\n",
       "      <td>83.5</td>\n",
       "      <td>82.6</td>\n",
       "      <td>80.6</td>\n",
       "      <td>78.7</td>\n",
       "      <td>81.0</td>\n",
       "    </tr>\n",
       "  </tbody>\n",
       "</table>\n",
       "<p>282 rows × 16 columns</p>\n",
       "</div>"
      ],
      "text/plain": [
       "     NORMALS              1981-2010                           YRS   JAN   FEB  \\\n",
       "0      13876          BIRMINGHAM AP          AL                30  43.8  47.7   \n",
       "1       3856             HUNTSVILLE       AL                   30  41.5  45.7   \n",
       "2      13838                 MOBILE   AL                       30  50.2  53.5   \n",
       "3      13895             MONTGOMERY       AL                   30  46.6  50.5   \n",
       "4      26451              ANCHORAGE      AK                    30  17.1  20.2   \n",
       "..       ...                    ...                           ...   ...   ...   \n",
       "277    40504   POHNPEI-CAROLINE IS.                 PC         30  80.7  80.9   \n",
       "278    40505  CHUUK E. CAROLINE IS.                  PC        30  81.2  81.3   \n",
       "279    41606            WAKE ISLAND        PC                  30  78.7  78.1   \n",
       "280    40308     YAP-W CAROLINE IS.               PC           30  82.2  82.2   \n",
       "281    11641               SAN JUAN     PR                     30  77.6  77.9   \n",
       "\n",
       "      MAR   APR   MAY   JUN   JUL   AUG   SEP   OCT   NOV   DEC   ANN  \n",
       "0    55.2  62.5  70.6  77.7  81.1  80.7  74.7  64.1  54.4  46.1  63.2  \n",
       "1    53.5  61.8  70.3  77.7  80.6  80.1  73.7  62.8  52.7  43.9  62.0  \n",
       "2    59.8  66.4  73.8  79.8  82.1  82.1  78.5  69.2  60.0  52.6  67.3  \n",
       "3    57.5  64.1  72.4  79.0  81.8  81.5  76.3  65.9  56.5  48.5  65.1  \n",
       "4    26.6  36.8  47.8  55.2  58.8  56.7  48.6  34.8  22.2  19.0  37.0  \n",
       "..    ...   ...   ...   ...   ...   ...   ...   ...   ...   ...   ...  \n",
       "277  81.1  81.1  81.2  81.0  80.8  81.0  80.8  80.8  80.9  80.7  80.9  \n",
       "278  81.6  81.8  82.1  81.8  81.5  81.3  81.5  81.5  81.8  81.6  81.6  \n",
       "279  78.6  79.7  81.2  82.9  83.4  83.6  83.7  82.9  81.4  79.9  81.2  \n",
       "280  82.6  83.4  83.7  83.0  82.5  82.4  82.6  82.8  82.9  82.6  82.7  \n",
       "281  78.9  80.3  81.9  83.3  83.4  83.7  83.5  82.6  80.6  78.7  81.0  \n",
       "\n",
       "[282 rows x 16 columns]"
      ]
     },
     "execution_count": 4,
     "metadata": {},
     "output_type": "execute_result"
    }
   ],
   "source": [
    "avg_region_temp = pd.read_csv('nrmavg.txt', header=None, skiprows=1, sep=',')\n",
    "avg_region_temp.columns = ['NORMALS', '1981-2010', 'YRS', 'JAN', 'FEB', 'MAR', 'APR', 'MAY', 'JUN', 'JUL',\n",
    "                           'AUG', 'SEP', 'OCT', 'NOV', 'DEC', 'ANN']\n",
    "\n",
    "avg_region_temp"
   ]
  },
  {
   "cell_type": "code",
   "execution_count": 5,
   "id": "f1b5c4bb",
   "metadata": {},
   "outputs": [
    {
     "data": {
      "text/html": [
       "<div>\n",
       "<style scoped>\n",
       "    .dataframe tbody tr th:only-of-type {\n",
       "        vertical-align: middle;\n",
       "    }\n",
       "\n",
       "    .dataframe tbody tr th {\n",
       "        vertical-align: top;\n",
       "    }\n",
       "\n",
       "    .dataframe thead th {\n",
       "        text-align: right;\n",
       "    }\n",
       "</style>\n",
       "<table border=\"1\" class=\"dataframe\">\n",
       "  <thead>\n",
       "    <tr style=\"text-align: right;\">\n",
       "      <th></th>\n",
       "      <th>CITY</th>\n",
       "      <th>STATE</th>\n",
       "      <th>ANN</th>\n",
       "    </tr>\n",
       "  </thead>\n",
       "  <tbody>\n",
       "    <tr>\n",
       "      <th>0</th>\n",
       "      <td>BIRMINGHAM AP</td>\n",
       "      <td>AL</td>\n",
       "      <td>63.2</td>\n",
       "    </tr>\n",
       "    <tr>\n",
       "      <th>1</th>\n",
       "      <td>HUNTSVILLE</td>\n",
       "      <td>AL</td>\n",
       "      <td>62.0</td>\n",
       "    </tr>\n",
       "    <tr>\n",
       "      <th>2</th>\n",
       "      <td>MOBILE</td>\n",
       "      <td>AL</td>\n",
       "      <td>67.3</td>\n",
       "    </tr>\n",
       "    <tr>\n",
       "      <th>3</th>\n",
       "      <td>MONTGOMERY</td>\n",
       "      <td>AL</td>\n",
       "      <td>65.1</td>\n",
       "    </tr>\n",
       "    <tr>\n",
       "      <th>4</th>\n",
       "      <td>ANCHORAGE</td>\n",
       "      <td>AK</td>\n",
       "      <td>37.0</td>\n",
       "    </tr>\n",
       "    <tr>\n",
       "      <th>...</th>\n",
       "      <td>...</td>\n",
       "      <td>...</td>\n",
       "      <td>...</td>\n",
       "    </tr>\n",
       "    <tr>\n",
       "      <th>277</th>\n",
       "      <td>POHNPEI-CAROLINE IS.</td>\n",
       "      <td>PC</td>\n",
       "      <td>80.9</td>\n",
       "    </tr>\n",
       "    <tr>\n",
       "      <th>278</th>\n",
       "      <td>CHUUK E. CAROLINE IS.</td>\n",
       "      <td>PC</td>\n",
       "      <td>81.6</td>\n",
       "    </tr>\n",
       "    <tr>\n",
       "      <th>279</th>\n",
       "      <td>WAKE ISLAND</td>\n",
       "      <td>PC</td>\n",
       "      <td>81.2</td>\n",
       "    </tr>\n",
       "    <tr>\n",
       "      <th>280</th>\n",
       "      <td>YAP-W CAROLINE IS.</td>\n",
       "      <td>PC</td>\n",
       "      <td>82.7</td>\n",
       "    </tr>\n",
       "    <tr>\n",
       "      <th>281</th>\n",
       "      <td>SAN JUAN</td>\n",
       "      <td>PR</td>\n",
       "      <td>81.0</td>\n",
       "    </tr>\n",
       "  </tbody>\n",
       "</table>\n",
       "<p>282 rows × 3 columns</p>\n",
       "</div>"
      ],
      "text/plain": [
       "                      CITY STATE   ANN\n",
       "0            BIRMINGHAM AP    AL  63.2\n",
       "1               HUNTSVILLE    AL  62.0\n",
       "2                   MOBILE    AL  67.3\n",
       "3               MONTGOMERY    AL  65.1\n",
       "4                ANCHORAGE    AK  37.0\n",
       "..                     ...   ...   ...\n",
       "277   POHNPEI-CAROLINE IS.    PC  80.9\n",
       "278  CHUUK E. CAROLINE IS.    PC  81.6\n",
       "279            WAKE ISLAND    PC  81.2\n",
       "280     YAP-W CAROLINE IS.    PC  82.7\n",
       "281               SAN JUAN    PR  81.0\n",
       "\n",
       "[282 rows x 3 columns]"
      ]
     },
     "execution_count": 5,
     "metadata": {},
     "output_type": "execute_result"
    }
   ],
   "source": [
    "avg_region_temp['STATE'] = avg_region_temp['YRS'].str.extract(r'([A-Za-z]{2})')\n",
    "avg_region_temp['STATE'] = avg_region_temp['STATE'].fillna('n/a')\n",
    "\n",
    "\n",
    "red_avg_region_temp = avg_region_temp[['1981-2010', 'STATE', 'ANN']]\n",
    "red_avg_region_temp = red_avg_region_temp.rename(columns={'1981-2010': 'CITY'})\n",
    "red_avg_region_temp"
   ]
  },
  {
   "cell_type": "code",
   "execution_count": 6,
   "id": "e7156059",
   "metadata": {},
   "outputs": [],
   "source": [
    "X_a = red_avg_region_temp['STATE']\n",
    "y_a = red_avg_region_temp['ANN']"
   ]
  },
  {
   "cell_type": "markdown",
   "id": "62675e25",
   "metadata": {},
   "source": [
    "## format b (numerically)"
   ]
  },
  {
   "cell_type": "code",
   "execution_count": 7,
   "id": "f1d69f70",
   "metadata": {},
   "outputs": [],
   "source": [
    "def geocode_with_rate_limit(location, max_retries=3, timeout=2):\n",
    "    retries = 0\n",
    "    while retries < max_retries:\n",
    "        try:\n",
    "            location_info = geolocator.geocode(location, timeout=timeout)\n",
    "            return location_info\n",
    "        except GeocoderTimedOut as e:\n",
    "            print(f\"Geocoding request for {location} timed out. Retrying... ({retries + 1}/{max_retries})\")\n",
    "            retries += 1\n",
    "            #timeout *= 2  # Exponential backoff\n",
    "            time.sleep(timeout)  # Introduce a delay between requests\n",
    "\n",
    "    print(f\"Max retries exceeded for {location}.\")\n",
    "    return None"
   ]
  },
  {
   "cell_type": "code",
   "execution_count": 8,
   "id": "e1f67583",
   "metadata": {},
   "outputs": [],
   "source": [
    "geolocator = Nominatim(user_agent='kaspar_weather')\n",
    "\n",
    "LATS = []\n",
    "LONGS = []\n",
    "location = []\n",
    "\n",
    "for i, j in zip(red_avg_region_temp['CITY'], red_avg_region_temp['STATE']):\n",
    "    location.append((i, j))\n",
    "\n",
    "location_info = []\n",
    "for x in location:\n",
    "    try:\n",
    "        y = geocode_with_rate_limit(x)\n",
    "        location_info.append(y)\n",
    "    except:\n",
    "        location_info.append(None)\n",
    "\n",
    "for i in location_info:\n",
    "    try:\n",
    "        LATS.append(i.latitude)\n",
    "        LONGS.append(i.longitude)\n",
    "    except:\n",
    "        LATS.append(None)\n",
    "        LONGS.append(None)"
   ]
  },
  {
   "cell_type": "code",
   "execution_count": 9,
   "id": "4a8bb090",
   "metadata": {},
   "outputs": [
    {
     "data": {
      "text/html": [
       "<div>\n",
       "<style scoped>\n",
       "    .dataframe tbody tr th:only-of-type {\n",
       "        vertical-align: middle;\n",
       "    }\n",
       "\n",
       "    .dataframe tbody tr th {\n",
       "        vertical-align: top;\n",
       "    }\n",
       "\n",
       "    .dataframe thead th {\n",
       "        text-align: right;\n",
       "    }\n",
       "</style>\n",
       "<table border=\"1\" class=\"dataframe\">\n",
       "  <thead>\n",
       "    <tr style=\"text-align: right;\">\n",
       "      <th></th>\n",
       "      <th>CITY</th>\n",
       "      <th>STATE</th>\n",
       "      <th>ANN</th>\n",
       "      <th>LATS</th>\n",
       "      <th>LONGS</th>\n",
       "    </tr>\n",
       "  </thead>\n",
       "  <tbody>\n",
       "    <tr>\n",
       "      <th>0</th>\n",
       "      <td>BIRMINGHAM AP</td>\n",
       "      <td>AL</td>\n",
       "      <td>63.2</td>\n",
       "      <td>33.520682</td>\n",
       "      <td>-86.802433</td>\n",
       "    </tr>\n",
       "    <tr>\n",
       "      <th>1</th>\n",
       "      <td>HUNTSVILLE</td>\n",
       "      <td>AL</td>\n",
       "      <td>62.0</td>\n",
       "      <td>34.729847</td>\n",
       "      <td>-86.585901</td>\n",
       "    </tr>\n",
       "    <tr>\n",
       "      <th>2</th>\n",
       "      <td>MOBILE</td>\n",
       "      <td>AL</td>\n",
       "      <td>67.3</td>\n",
       "      <td>30.691346</td>\n",
       "      <td>-88.043751</td>\n",
       "    </tr>\n",
       "    <tr>\n",
       "      <th>3</th>\n",
       "      <td>MONTGOMERY</td>\n",
       "      <td>AL</td>\n",
       "      <td>65.1</td>\n",
       "      <td>32.366966</td>\n",
       "      <td>-86.300648</td>\n",
       "    </tr>\n",
       "    <tr>\n",
       "      <th>4</th>\n",
       "      <td>ANCHORAGE</td>\n",
       "      <td>AK</td>\n",
       "      <td>37.0</td>\n",
       "      <td>61.216313</td>\n",
       "      <td>-149.894852</td>\n",
       "    </tr>\n",
       "    <tr>\n",
       "      <th>...</th>\n",
       "      <td>...</td>\n",
       "      <td>...</td>\n",
       "      <td>...</td>\n",
       "      <td>...</td>\n",
       "      <td>...</td>\n",
       "    </tr>\n",
       "    <tr>\n",
       "      <th>277</th>\n",
       "      <td>POHNPEI-CAROLINE IS.</td>\n",
       "      <td>PC</td>\n",
       "      <td>80.9</td>\n",
       "      <td>NaN</td>\n",
       "      <td>NaN</td>\n",
       "    </tr>\n",
       "    <tr>\n",
       "      <th>278</th>\n",
       "      <td>CHUUK E. CAROLINE IS.</td>\n",
       "      <td>PC</td>\n",
       "      <td>81.6</td>\n",
       "      <td>NaN</td>\n",
       "      <td>NaN</td>\n",
       "    </tr>\n",
       "    <tr>\n",
       "      <th>279</th>\n",
       "      <td>WAKE ISLAND</td>\n",
       "      <td>PC</td>\n",
       "      <td>81.2</td>\n",
       "      <td>27.425989</td>\n",
       "      <td>-82.672742</td>\n",
       "    </tr>\n",
       "    <tr>\n",
       "      <th>280</th>\n",
       "      <td>YAP-W CAROLINE IS.</td>\n",
       "      <td>PC</td>\n",
       "      <td>82.7</td>\n",
       "      <td>NaN</td>\n",
       "      <td>NaN</td>\n",
       "    </tr>\n",
       "    <tr>\n",
       "      <th>281</th>\n",
       "      <td>SAN JUAN</td>\n",
       "      <td>PR</td>\n",
       "      <td>81.0</td>\n",
       "      <td>18.465299</td>\n",
       "      <td>-66.116666</td>\n",
       "    </tr>\n",
       "  </tbody>\n",
       "</table>\n",
       "<p>282 rows × 5 columns</p>\n",
       "</div>"
      ],
      "text/plain": [
       "                      CITY STATE   ANN       LATS       LONGS\n",
       "0            BIRMINGHAM AP    AL  63.2  33.520682  -86.802433\n",
       "1               HUNTSVILLE    AL  62.0  34.729847  -86.585901\n",
       "2                   MOBILE    AL  67.3  30.691346  -88.043751\n",
       "3               MONTGOMERY    AL  65.1  32.366966  -86.300648\n",
       "4                ANCHORAGE    AK  37.0  61.216313 -149.894852\n",
       "..                     ...   ...   ...        ...         ...\n",
       "277   POHNPEI-CAROLINE IS.    PC  80.9        NaN         NaN\n",
       "278  CHUUK E. CAROLINE IS.    PC  81.6        NaN         NaN\n",
       "279            WAKE ISLAND    PC  81.2  27.425989  -82.672742\n",
       "280     YAP-W CAROLINE IS.    PC  82.7        NaN         NaN\n",
       "281               SAN JUAN    PR  81.0  18.465299  -66.116666\n",
       "\n",
       "[282 rows x 5 columns]"
      ]
     },
     "execution_count": 9,
     "metadata": {},
     "output_type": "execute_result"
    }
   ],
   "source": [
    "red_avg_region_temp['LATS'] = LATS\n",
    "red_avg_region_temp['LONGS'] = LONGS\n",
    "\n",
    "red_avg_region_temp"
   ]
  },
  {
   "cell_type": "code",
   "execution_count": 10,
   "id": "78c471cd",
   "metadata": {},
   "outputs": [
    {
     "data": {
      "text/html": [
       "<div>\n",
       "<style scoped>\n",
       "    .dataframe tbody tr th:only-of-type {\n",
       "        vertical-align: middle;\n",
       "    }\n",
       "\n",
       "    .dataframe tbody tr th {\n",
       "        vertical-align: top;\n",
       "    }\n",
       "\n",
       "    .dataframe thead th {\n",
       "        text-align: right;\n",
       "    }\n",
       "</style>\n",
       "<table border=\"1\" class=\"dataframe\">\n",
       "  <thead>\n",
       "    <tr style=\"text-align: right;\">\n",
       "      <th></th>\n",
       "      <th>ANN</th>\n",
       "      <th>LATS</th>\n",
       "      <th>LONGS</th>\n",
       "    </tr>\n",
       "  </thead>\n",
       "  <tbody>\n",
       "    <tr>\n",
       "      <th>0</th>\n",
       "      <td>63.2</td>\n",
       "      <td>33.520682</td>\n",
       "      <td>-86.802433</td>\n",
       "    </tr>\n",
       "    <tr>\n",
       "      <th>1</th>\n",
       "      <td>62.0</td>\n",
       "      <td>34.729847</td>\n",
       "      <td>-86.585901</td>\n",
       "    </tr>\n",
       "    <tr>\n",
       "      <th>2</th>\n",
       "      <td>67.3</td>\n",
       "      <td>30.691346</td>\n",
       "      <td>-88.043751</td>\n",
       "    </tr>\n",
       "    <tr>\n",
       "      <th>3</th>\n",
       "      <td>65.1</td>\n",
       "      <td>32.366966</td>\n",
       "      <td>-86.300648</td>\n",
       "    </tr>\n",
       "    <tr>\n",
       "      <th>4</th>\n",
       "      <td>37.0</td>\n",
       "      <td>61.216313</td>\n",
       "      <td>-149.894852</td>\n",
       "    </tr>\n",
       "    <tr>\n",
       "      <th>...</th>\n",
       "      <td>...</td>\n",
       "      <td>...</td>\n",
       "      <td>...</td>\n",
       "    </tr>\n",
       "    <tr>\n",
       "      <th>271</th>\n",
       "      <td>81.4</td>\n",
       "      <td>16.711316</td>\n",
       "      <td>121.890963</td>\n",
       "    </tr>\n",
       "    <tr>\n",
       "      <th>272</th>\n",
       "      <td>80.8</td>\n",
       "      <td>46.296303</td>\n",
       "      <td>-62.520560</td>\n",
       "    </tr>\n",
       "    <tr>\n",
       "      <th>273</th>\n",
       "      <td>81.8</td>\n",
       "      <td>7.343275</td>\n",
       "      <td>134.476677</td>\n",
       "    </tr>\n",
       "    <tr>\n",
       "      <th>279</th>\n",
       "      <td>81.2</td>\n",
       "      <td>27.425989</td>\n",
       "      <td>-82.672742</td>\n",
       "    </tr>\n",
       "    <tr>\n",
       "      <th>281</th>\n",
       "      <td>81.0</td>\n",
       "      <td>18.465299</td>\n",
       "      <td>-66.116666</td>\n",
       "    </tr>\n",
       "  </tbody>\n",
       "</table>\n",
       "<p>264 rows × 3 columns</p>\n",
       "</div>"
      ],
      "text/plain": [
       "      ANN       LATS       LONGS\n",
       "0    63.2  33.520682  -86.802433\n",
       "1    62.0  34.729847  -86.585901\n",
       "2    67.3  30.691346  -88.043751\n",
       "3    65.1  32.366966  -86.300648\n",
       "4    37.0  61.216313 -149.894852\n",
       "..    ...        ...         ...\n",
       "271  81.4  16.711316  121.890963\n",
       "272  80.8  46.296303  -62.520560\n",
       "273  81.8   7.343275  134.476677\n",
       "279  81.2  27.425989  -82.672742\n",
       "281  81.0  18.465299  -66.116666\n",
       "\n",
       "[264 rows x 3 columns]"
      ]
     },
     "execution_count": 10,
     "metadata": {},
     "output_type": "execute_result"
    }
   ],
   "source": [
    "filtered_region_temp = red_avg_region_temp.dropna()\n",
    "filtered_region_temp = filtered_region_temp.drop(['CITY', 'STATE'], axis = 1)\n",
    "filtered_region_temp"
   ]
  },
  {
   "cell_type": "code",
   "execution_count": 11,
   "id": "9f50b863",
   "metadata": {},
   "outputs": [],
   "source": [
    "X_b = filtered_region_temp[['LATS', 'LONGS']]\n",
    "y_b = filtered_region_temp['ANN']"
   ]
  },
  {
   "cell_type": "markdown",
   "id": "449c12d8",
   "metadata": {},
   "source": [
    "# methods"
   ]
  },
  {
   "cell_type": "markdown",
   "id": "bce10a67",
   "metadata": {},
   "source": [
    "## format a (vectorizing)"
   ]
  },
  {
   "cell_type": "code",
   "execution_count": 12,
   "id": "abbc7e4d",
   "metadata": {},
   "outputs": [],
   "source": [
    "X_train, X_test, y_train, y_test = train_test_split(X_a, y_a, test_size=0.2, random_state=42)"
   ]
  },
  {
   "cell_type": "code",
   "execution_count": 13,
   "id": "03051848",
   "metadata": {},
   "outputs": [
    {
     "name": "stdout",
     "output_type": "stream",
     "text": [
      "Mean Squared Error (Random): 579.3035268267448\n"
     ]
    }
   ],
   "source": [
    "# Generate random predictions\n",
    "random_predictions = np.random.uniform(low=np.min(y_test), high=np.max(y_test), size=len(y_test))\n",
    "mse_random = mean_squared_error(y_test, random_predictions)\n",
    "\n",
    "print(f\"Mean Squared Error (Random): {mse_random}\")"
   ]
  },
  {
   "cell_type": "code",
   "execution_count": 14,
   "id": "1043d030",
   "metadata": {},
   "outputs": [],
   "source": [
    "# Vectorizing strings, for numerical predictions\n",
    "vectorizer = TfidfVectorizer()\n",
    "X_train_vectorized = vectorizer.fit_transform(X_train)\n",
    "X_test_vectorized = vectorizer.transform(X_test)"
   ]
  },
  {
   "cell_type": "code",
   "execution_count": 15,
   "id": "346dbd80",
   "metadata": {},
   "outputs": [
    {
     "name": "stdout",
     "output_type": "stream",
     "text": [
      "Mean Squared Error (Polynomial Regression, degree = 2, Testing): 36.75757651699762\n",
      "Mean Squared Error (Polynomial Regression, degree = 2, Validation): 13.780497411557217\n"
     ]
    }
   ],
   "source": [
    "# Polynomial regression\n",
    "degree = 2\n",
    "model = make_pipeline(PolynomialFeatures(degree), LinearRegression())\n",
    "model.fit(X_train_vectorized, y_train)\n",
    "\n",
    "y_pred_poly_test = model.predict(X_test_vectorized)\n",
    "mse_poly_2_test = mean_squared_error(y_test, y_pred_poly_test)\n",
    "print(f'Mean Squared Error (Polynomial Regression, degree = 2, Testing): {mse_poly_2_test}')\n",
    "\n",
    "y_pred_poly_val = model.predict(X_train_vectorized)\n",
    "mse_poly_2_val = mean_squared_error(y_train, y_pred_poly_val)\n",
    "print(f'Mean Squared Error (Polynomial Regression, degree = 2, Validation): {mse_poly_2_val}')"
   ]
  },
  {
   "cell_type": "code",
   "execution_count": 16,
   "id": "948715bd",
   "metadata": {},
   "outputs": [
    {
     "name": "stdout",
     "output_type": "stream",
     "text": [
      "Mean Squared Error (Polynomial Regression, degree = 3, Testing): 36.75757643395615\n",
      "Mean Squared Error (Polynomial Regression, degree = 3, Validation): 13.780497411557223\n"
     ]
    }
   ],
   "source": [
    "degree = 3\n",
    "model = make_pipeline(PolynomialFeatures(degree), LinearRegression())\n",
    "model.fit(X_train_vectorized, y_train)\n",
    "\n",
    "y_pred_poly_test = model.predict(X_test_vectorized)\n",
    "mse_poly_3_test = mean_squared_error(y_test, y_pred_poly_test)\n",
    "print(f'Mean Squared Error (Polynomial Regression, degree = 3, Testing): {mse_poly_3_test}')\n",
    "\n",
    "y_pred_poly_val = model.predict(X_train_vectorized)\n",
    "mse_poly_3_val = mean_squared_error(y_train, y_pred_poly_val)\n",
    "print(f'Mean Squared Error (Polynomial Regression, degree = 3, Validation): {mse_poly_3_val}')"
   ]
  },
  {
   "cell_type": "code",
   "execution_count": 17,
   "id": "903d84b4",
   "metadata": {},
   "outputs": [
    {
     "name": "stdout",
     "output_type": "stream",
     "text": [
      "Mean Squared Error (Polynomial Regression, degree = 4, Testing): 36.75757652873237\n",
      "Mean Squared Error (Polynomial Regression, degree = 4, Validation): 13.780497411557217\n"
     ]
    }
   ],
   "source": [
    "degree = 4\n",
    "model = make_pipeline(PolynomialFeatures(degree), LinearRegression())\n",
    "model.fit(X_train_vectorized, y_train)\n",
    "\n",
    "y_pred_poly_test = model.predict(X_test_vectorized)\n",
    "mse_poly_4_test = mean_squared_error(y_test, y_pred_poly_test)\n",
    "print(f'Mean Squared Error (Polynomial Regression, degree = 4, Testing): {mse_poly_4_test}')\n",
    "\n",
    "y_pred_poly_val = model.predict(X_train_vectorized)\n",
    "mse_poly_4_val = mean_squared_error(y_train, y_pred_poly_val)\n",
    "print(f'Mean Squared Error (Polynomial Regression, degree = 4, Validation): {mse_poly_4_val}')"
   ]
  },
  {
   "cell_type": "code",
   "execution_count": 18,
   "id": "e8bca730",
   "metadata": {},
   "outputs": [
    {
     "name": "stdout",
     "output_type": "stream",
     "text": [
      "Mean Squared Error: 36.757576608952824\n",
      "Mean Squared Error (Decision Tree, Validation): 13.780497411557217\n"
     ]
    }
   ],
   "source": [
    "# Decision tree\n",
    "decision_tree = DecisionTreeRegressor(random_state=42)\n",
    "decision_tree.fit(X_train_vectorized, y_train)\n",
    "\n",
    "y_pred_test = decision_tree.predict(X_test_vectorized)\n",
    "mse_tree_test = mean_squared_error(y_test, y_pred_test)\n",
    "print(f'Mean Squared Error: {mse_tree_test}')\n",
    "\n",
    "y_pred_val = decision_tree.predict(X_train_vectorized)\n",
    "mse_tree_val = mean_squared_error(y_train, y_pred_val)\n",
    "print(f'Mean Squared Error (Decision Tree, Validation): {mse_tree_val}')"
   ]
  },
  {
   "cell_type": "code",
   "execution_count": 19,
   "id": "dddb4974",
   "metadata": {},
   "outputs": [],
   "source": [
    "# CNN (flattened)\n",
    "label_encoder = LabelEncoder()\n",
    "y_encoded = label_encoder.fit_transform(y_a)\n",
    "\n",
    "X_train, X_test, y_train, y_test = train_test_split(X_a, y_encoded, test_size=0.2, random_state=42)\n",
    "\n",
    "uniq_words = []\n",
    "for i in X_a:\n",
    "    if i not in uniq_words:\n",
    "        uniq_words.append(i)\n",
    "max_words = round(1.2 * len(uniq_words))\n",
    "tokenizer = Tokenizer(num_words=max_words)\n",
    "tokenizer.fit_on_texts(X_train)\n",
    "X_train_sequences = tokenizer.texts_to_sequences(X_train)\n",
    "X_test_sequences = tokenizer.texts_to_sequences(X_test)\n",
    "\n",
    "max_sequence_length = max(len(seq) for seq in X_train_sequences)\n",
    "X_train_padded = pad_sequences(X_train_sequences, maxlen=max_sequence_length)\n",
    "X_test_padded = pad_sequences(X_test_sequences, maxlen=max_sequence_length)"
   ]
  },
  {
   "cell_type": "code",
   "execution_count": 20,
   "id": "81639320",
   "metadata": {},
   "outputs": [
    {
     "name": "stdout",
     "output_type": "stream",
     "text": [
      "Epoch 1/20\n",
      "6/6 [==============================] - 1s 60ms/step - loss: 11533.2139 - mae: 93.2330 - val_loss: 10380.3164 - val_mae: 86.7547\n",
      "Epoch 2/20\n",
      "6/6 [==============================] - 0s 14ms/step - loss: 10589.8438 - mae: 88.2878 - val_loss: 9268.5625 - val_mae: 80.5305\n",
      "Epoch 3/20\n",
      "6/6 [==============================] - 0s 14ms/step - loss: 9235.5303 - mae: 80.8849 - val_loss: 7716.2710 - val_mae: 71.8668\n",
      "Epoch 4/20\n",
      "6/6 [==============================] - 0s 16ms/step - loss: 7345.9106 - mae: 70.2398 - val_loss: 5830.4966 - val_mae: 60.6746\n",
      "Epoch 5/20\n",
      "6/6 [==============================] - 0s 22ms/step - loss: 5333.6719 - mae: 57.5940 - val_loss: 3908.5068 - val_mae: 47.4365\n",
      "Epoch 6/20\n",
      "6/6 [==============================] - 0s 19ms/step - loss: 3318.2029 - mae: 45.4840 - val_loss: 2529.0339 - val_mae: 39.0530\n",
      "Epoch 7/20\n",
      "6/6 [==============================] - 0s 18ms/step - loss: 2160.6877 - mae: 39.3669 - val_loss: 1981.9956 - val_mae: 38.2322\n",
      "Epoch 8/20\n",
      "6/6 [==============================] - 0s 21ms/step - loss: 1717.7406 - mae: 35.8881 - val_loss: 1771.2908 - val_mae: 36.8771\n",
      "Epoch 9/20\n",
      "6/6 [==============================] - 0s 21ms/step - loss: 1484.2068 - mae: 33.3773 - val_loss: 1396.3309 - val_mae: 31.6290\n",
      "Epoch 10/20\n",
      "6/6 [==============================] - 0s 22ms/step - loss: 1038.7916 - mae: 26.8397 - val_loss: 983.3452 - val_mae: 24.1459\n",
      "Epoch 11/20\n",
      "6/6 [==============================] - 0s 21ms/step - loss: 704.7145 - mae: 20.3702 - val_loss: 779.5691 - val_mae: 19.7569\n",
      "Epoch 12/20\n",
      "6/6 [==============================] - 0s 16ms/step - loss: 537.6683 - mae: 16.8614 - val_loss: 700.6409 - val_mae: 18.3410\n",
      "Epoch 13/20\n",
      "6/6 [==============================] - 0s 16ms/step - loss: 442.2689 - mae: 14.8727 - val_loss: 641.5485 - val_mae: 16.9229\n",
      "Epoch 14/20\n",
      "6/6 [==============================] - 0s 41ms/step - loss: 395.2522 - mae: 13.6229 - val_loss: 622.5224 - val_mae: 16.4826\n",
      "Epoch 15/20\n",
      "6/6 [==============================] - 0s 19ms/step - loss: 370.6994 - mae: 12.8877 - val_loss: 628.0550 - val_mae: 16.6678\n",
      "Epoch 16/20\n",
      "6/6 [==============================] - 0s 17ms/step - loss: 353.8716 - mae: 12.4712 - val_loss: 632.2267 - val_mae: 16.6161\n",
      "Epoch 17/20\n",
      "6/6 [==============================] - 0s 21ms/step - loss: 343.8744 - mae: 12.1456 - val_loss: 632.1019 - val_mae: 16.6785\n",
      "Epoch 18/20\n",
      "6/6 [==============================] - 0s 20ms/step - loss: 336.6697 - mae: 12.2008 - val_loss: 632.7271 - val_mae: 16.8154\n",
      "Epoch 19/20\n",
      "6/6 [==============================] - 0s 32ms/step - loss: 331.4618 - mae: 12.0052 - val_loss: 634.7466 - val_mae: 16.8982\n",
      "Epoch 20/20\n",
      "6/6 [==============================] - 0s 18ms/step - loss: 330.8363 - mae: 11.8592 - val_loss: 636.5750 - val_mae: 16.9769\n",
      "2/2 [==============================] - 0s 4ms/step\n",
      "Mean Squared Error (CNN, Testing): 522.3306722343076\n",
      "8/8 [==============================] - 0s 2ms/step\n",
      "Mean Squared Error (CNN, Training): 385.2785083693421\n"
     ]
    }
   ],
   "source": [
    "embedding_dim = 5000\n",
    "epoch_num = 20\n",
    "\n",
    "model = Sequential()\n",
    "model.add(Embedding(input_dim=max_words, output_dim=embedding_dim, input_length=max_sequence_length))\n",
    "model.add(Flatten())\n",
    "model.add(Dense(units=64, activation='relu'))\n",
    "model.add(Dense(units=1, activation='linear'))  # Output layer for regression\n",
    "\n",
    "# Compile the model\n",
    "model.compile(optimizer='adam', loss='mean_squared_error', metrics=['mae'])\n",
    "\n",
    "batch_size = 32\n",
    "history = model.fit(\n",
    "    X_train_padded, y_train,\n",
    "    epochs=epoch_num, batch_size=batch_size,\n",
    "    validation_split=0.2  # 20% of the training data will be used for validation\n",
    ")\n",
    "\n",
    "# Predictions on the testing set\n",
    "cnn_predictions = model.predict(X_test_padded)\n",
    "mse_cnn_test = mean_squared_error(y_test, cnn_predictions)\n",
    "\n",
    "# Print the Mean Squared Error\n",
    "print(f'Mean Squared Error (CNN, Testing): {mse_cnn_test}')\n",
    "\n",
    "# Predictions on the training set\n",
    "cnn_predictions = model.predict(X_train_padded)\n",
    "mse_cnn_train = mean_squared_error(y_train, cnn_predictions)\n",
    "\n",
    "# Print the Mean Squared Error\n",
    "print(f'Mean Squared Error (CNN, Training): {mse_cnn_train}')"
   ]
  },
  {
   "cell_type": "code",
   "execution_count": 21,
   "id": "8edf4de5",
   "metadata": {},
   "outputs": [
    {
     "data": {
      "image/png": "[encoded data removed]",
      "text/plain": [
       "<Figure size 640x480 with 1 Axes>"
      ]
     },
     "metadata": {},
     "output_type": "display_data"
    }
   ],
   "source": [
    "models = ['Random', 'Polynomial Regression(deg=2)', 'Polynomial Regression(deg=3)',\n",
    "          'Polynomial Regression(deg=4)', 'Decision Tree', 'CNN']\n",
    "mse_test_values = [mse_random, mse_poly_2_test, mse_poly_3_test, mse_poly_4_test, mse_tree_test, mse_cnn_test]\n",
    "\n",
    "fig, ax = plt.subplots()\n",
    "bars = ax.bar(models, mse_test_values, color=['blue', 'green', 'orange', 'red', 'gray', 'purple'])\n",
    "for bar, value in zip(bars, mse_test_values):\n",
    "    yval = bar.get_height()\n",
    "    ax.text(bar.get_x() + bar.get_width() / 2, yval, round(value, 2), ha='center', va='bottom')\n",
    "\n",
    "plt.ylabel('Mean Squared Testing Error')\n",
    "plt.xticks(rotation = 90)\n",
    "plt.title('Model Comparison')\n",
    "plt.show()"
   ]
  },
  {
   "cell_type": "code",
   "execution_count": 22,
   "id": "9703ad1d",
   "metadata": {},
   "outputs": [
    {
     "data": {
      "image/png": "[encoded data removed]",
      "text/plain": [
       "<Figure size 640x480 with 1 Axes>"
      ]
     },
     "metadata": {},
     "output_type": "display_data"
    }
   ],
   "source": [
    "mse_val_values = [mse_random, mse_poly_2_val, mse_poly_3_val, mse_poly_4_val, mse_tree_val, mse_cnn_train]\n",
    "\n",
    "fig, ax = plt.subplots()\n",
    "bars = ax.bar(models, mse_val_values, color=['blue', 'green', 'orange', 'red', 'gray', 'purple'])\n",
    "for bar, value in zip(bars, mse_val_values):\n",
    "    yval = bar.get_height()\n",
    "    ax.text(bar.get_x() + bar.get_width() / 2, yval, round(value, 2), ha='center', va='bottom')\n",
    "\n",
    "plt.ylabel('Mean Squared Training Error')\n",
    "plt.xticks(rotation = 90)\n",
    "plt.title('Model Comparison')\n",
    "plt.show()"
   ]
  },
  {
   "cell_type": "markdown",
   "id": "faf52ce7",
   "metadata": {},
   "source": [
    "## format b (numerically)"
   ]
  },
  {
   "cell_type": "code",
   "execution_count": 23,
   "id": "4adae2f6",
   "metadata": {},
   "outputs": [],
   "source": [
    "X_train, X_test, y_train, y_test = train_test_split(X_b, y_b, test_size=0.2, random_state=42)"
   ]
  },
  {
   "cell_type": "code",
   "execution_count": 24,
   "id": "4c7bd23d",
   "metadata": {},
   "outputs": [
    {
     "name": "stdout",
     "output_type": "stream",
     "text": [
      "Mean Squared Error (Random): 495.0107676646647\n"
     ]
    }
   ],
   "source": [
    "random_predictions = np.random.uniform(low=np.min(y_test), high=np.max(y_test), size=len(y_test))\n",
    "mse_random = mean_squared_error(y_test, random_predictions)\n",
    "\n",
    "print(f\"Mean Squared Error (Random): {mse_random}\")"
   ]
  },
  {
   "cell_type": "code",
   "execution_count": 25,
   "id": "ba6cf5a5",
   "metadata": {},
   "outputs": [
    {
     "name": "stdout",
     "output_type": "stream",
     "text": [
      "Mean Squared Error (Polynomial Regression, degree = 2, Testing): 31.983242315583315\n",
      "Mean Squared Error (Polynomial Regression, degree = 2, Validation): 26.256664377215365\n"
     ]
    }
   ],
   "source": [
    "degree = 2\n",
    "model = make_pipeline(PolynomialFeatures(degree), LinearRegression())\n",
    "model.fit(X_train, y_train)\n",
    "\n",
    "y_pred_poly_test = model.predict(X_test)\n",
    "mse_poly_2_test = mean_squared_error(y_test, y_pred_poly_test)\n",
    "print(f'Mean Squared Error (Polynomial Regression, degree = 2, Testing): {mse_poly_2_test}')\n",
    "\n",
    "y_pred_poly_val = model.predict(X_train)\n",
    "mse_poly_2_val = mean_squared_error(y_train, y_pred_poly_val)\n",
    "print(f'Mean Squared Error (Polynomial Regression, degree = 2, Validation): {mse_poly_2_val}')"
   ]
  },
  {
   "cell_type": "code",
   "execution_count": 26,
   "id": "ef5e3a4a",
   "metadata": {},
   "outputs": [
    {
     "name": "stdout",
     "output_type": "stream",
     "text": [
      "Mean Squared Error (Polynomial Regression, degree = 3, Testing): 36.22568817677506\n",
      "Mean Squared Error (Polynomial Regression, degree = 3, Validation): 19.736061968784067\n"
     ]
    }
   ],
   "source": [
    "degree = 3\n",
    "model = make_pipeline(PolynomialFeatures(degree), LinearRegression())\n",
    "model.fit(X_train, y_train)\n",
    "\n",
    "y_pred_poly_test = model.predict(X_test)\n",
    "mse_poly_3_test = mean_squared_error(y_test, y_pred_poly_test)\n",
    "print(f'Mean Squared Error (Polynomial Regression, degree = 3, Testing): {mse_poly_3_test}')\n",
    "\n",
    "y_pred_poly_val = model.predict(X_train)\n",
    "mse_poly_3_val = mean_squared_error(y_train, y_pred_poly_val)\n",
    "print(f'Mean Squared Error (Polynomial Regression, degree = 3, Validation): {mse_poly_3_val}')"
   ]
  },
  {
   "cell_type": "code",
   "execution_count": 27,
   "id": "d9ced6df",
   "metadata": {},
   "outputs": [
    {
     "name": "stdout",
     "output_type": "stream",
     "text": [
      "Mean Squared Error (Polynomial Regression, degree = 4, Testing): 30.0410117712275\n",
      "Mean Squared Error (Polynomial Regression, degree = 4, Validation): 13.874880418957904\n"
     ]
    }
   ],
   "source": [
    "#This one runs so much faster than the above, vectorized version it made my heart stop for a moment\n",
    "\n",
    "degree = 4\n",
    "model = make_pipeline(PolynomialFeatures(degree), LinearRegression())\n",
    "model.fit(X_train, y_train)\n",
    "\n",
    "y_pred_poly_test = model.predict(X_test)\n",
    "mse_poly_4_test = mean_squared_error(y_test, y_pred_poly_test)\n",
    "print(f'Mean Squared Error (Polynomial Regression, degree = 4, Testing): {mse_poly_4_test}')\n",
    "\n",
    "y_pred_poly_val = model.predict(X_train)\n",
    "mse_poly_4_val = mean_squared_error(y_train, y_pred_poly_val)\n",
    "print(f'Mean Squared Error (Polynomial Regression, degree = 4, Validation): {mse_poly_4_val}')"
   ]
  },
  {
   "cell_type": "code",
   "execution_count": 28,
   "id": "64b6419a",
   "metadata": {},
   "outputs": [
    {
     "name": "stdout",
     "output_type": "stream",
     "text": [
      "Mean Squared Error (Polynomial Regression, degree = 5, Testing): 24.29460520507855\n",
      "Mean Squared Error (Polynomial Regression, degree = 5, Validation): 11.480326853122905\n"
     ]
    }
   ],
   "source": [
    "#You  couldn't even dream of doing a 5 degree polynomial for the vectorized data, but here it runs\n",
    "# so quickly and smoothly it's as though it's nothing at all\n",
    "\n",
    "degree = 5\n",
    "model = make_pipeline(PolynomialFeatures(degree), LinearRegression())\n",
    "model.fit(X_train, y_train)\n",
    "\n",
    "y_pred_poly_test = model.predict(X_test)\n",
    "mse_poly_5_test = mean_squared_error(y_test, y_pred_poly_test)\n",
    "print(f'Mean Squared Error (Polynomial Regression, degree = 5, Testing): {mse_poly_5_test}')\n",
    "\n",
    "y_pred_poly_val = model.predict(X_train)\n",
    "mse_poly_5_val = mean_squared_error(y_train, y_pred_poly_val)\n",
    "print(f'Mean Squared Error (Polynomial Regression, degree = 5, Validation): {mse_poly_5_val}')"
   ]
  },
  {
   "cell_type": "code",
   "execution_count": 29,
   "id": "43bc4aee",
   "metadata": {},
   "outputs": [
    {
     "name": "stdout",
     "output_type": "stream",
     "text": [
      "Mean Squared Error (Polynomial Regression, degree = 6, Testing): 43.309094252605924\n",
      "Mean Squared Error (Polynomial Regression, degree = 6, Validation): 8.900594166183833\n"
     ]
    }
   ],
   "source": [
    "degree = 6\n",
    "model = make_pipeline(PolynomialFeatures(degree), LinearRegression())\n",
    "model.fit(X_train, y_train)\n",
    "\n",
    "y_pred_poly_test = model.predict(X_test)\n",
    "mse_poly_6_test = mean_squared_error(y_test, y_pred_poly_test)\n",
    "print(f'Mean Squared Error (Polynomial Regression, degree = 6, Testing): {mse_poly_6_test}')\n",
    "\n",
    "y_pred_poly_val = model.predict(X_train)\n",
    "mse_poly_6_val = mean_squared_error(y_train, y_pred_poly_val)\n",
    "print(f'Mean Squared Error (Polynomial Regression, degree = 6, Validation): {mse_poly_6_val}')"
   ]
  },
  {
   "cell_type": "code",
   "execution_count": 30,
   "id": "3c353122",
   "metadata": {},
   "outputs": [
    {
     "name": "stdout",
     "output_type": "stream",
     "text": [
      "Mean Squared Error (Polynomial Regression, degree = 16, Testing): 1113206508.349156\n",
      "Mean Squared Error (Polynomial Regression, degree = 16, Validation): 9.702820800237077\n"
     ]
    }
   ],
   "source": [
    "degree = 16\n",
    "model = make_pipeline(PolynomialFeatures(degree), LinearRegression())\n",
    "model.fit(X_train, y_train)\n",
    "\n",
    "y_pred_poly_test = model.predict(X_test)\n",
    "mse_poly_16_test = mean_squared_error(y_test, y_pred_poly_test)\n",
    "print(f'Mean Squared Error (Polynomial Regression, degree = 16, Testing): {mse_poly_16_test}')\n",
    "\n",
    "y_pred_poly_val = model.predict(X_train)\n",
    "mse_poly_16_val = mean_squared_error(y_train, y_pred_poly_val)\n",
    "print(f'Mean Squared Error (Polynomial Regression, degree = 16, Validation): {mse_poly_16_val}')"
   ]
  },
  {
   "cell_type": "code",
   "execution_count": 31,
   "id": "c757060a",
   "metadata": {},
   "outputs": [
    {
     "name": "stdout",
     "output_type": "stream",
     "text": [
      "Mean Squared Testing Error: 26.977594339622623\n",
      "Mean Squared Training Error: 0.0005924170616113745\n"
     ]
    }
   ],
   "source": [
    "# Decision tree\n",
    "decision_tree = DecisionTreeRegressor(random_state=42)\n",
    "decision_tree.fit(X_train, y_train)\n",
    "\n",
    "y_pred_test = decision_tree.predict(X_test)\n",
    "mse_tree_test = mean_squared_error(y_test, y_pred_test)\n",
    "print(f'Mean Squared Testing Error: {mse_tree_test}')\n",
    "\n",
    "y_pred_val = decision_tree.predict(X_train)\n",
    "mse_tree_val = mean_squared_error(y_train, y_pred_val)\n",
    "print(f'Mean Squared Training Error: {mse_tree_val}')\n",
    "#print(y_pred_poly_val)"
   ]
  },
  {
   "cell_type": "code",
   "execution_count": 32,
   "id": "53742f0a",
   "metadata": {},
   "outputs": [
    {
     "data": {
      "image/png": "[encoded data removed]",
      "text/plain": [
       "<Figure size 640x480 with 1 Axes>"
      ]
     },
     "metadata": {},
     "output_type": "display_data"
    }
   ],
   "source": [
    "models = ['Random', 'Polynomial Regression(deg=2)', 'Polynomial Regression(deg=3)',\n",
    "          'Polynomial Regression(deg=4)', 'Polynomial Regression(deg=5)',\n",
    "          'Polynomial Regression(deg=6)', 'Decision Tree']\n",
    "mse_test_values = [mse_random, mse_poly_2_test, mse_poly_3_test, mse_poly_4_test, mse_poly_5_test,\n",
    "                   mse_poly_6_test, mse_tree_test]\n",
    "\n",
    "fig, ax = plt.subplots()\n",
    "bars = ax.bar(models, mse_test_values, color=['blue', 'green', 'orange', 'red', 'cyan', 'maroon', 'gray'])\n",
    "for bar, value in zip(bars, mse_test_values):\n",
    "    yval = bar.get_height()\n",
    "    ax.text(bar.get_x() + bar.get_width() / 2, yval, round(value, 2), ha='center', va='bottom')\n",
    "\n",
    "plt.ylabel('Mean Squared Testing Error')\n",
    "plt.xticks(rotation = 90)\n",
    "plt.title('Model Comparison')\n",
    "plt.show()"
   ]
  },
  {
   "cell_type": "code",
   "execution_count": 33,
   "id": "767c9126",
   "metadata": {},
   "outputs": [
    {
     "data": {
      "image/png": "[encoded data removed]",
      "text/plain": [
       "<Figure size 640x480 with 1 Axes>"
      ]
     },
     "metadata": {},
     "output_type": "display_data"
    }
   ],
   "source": [
    "models = ['Random', 'Polynomial Regression(deg=2)', 'Polynomial Regression(deg=3)',\n",
    "          'Polynomial Regression(deg=4)', 'Polynomial Regression(deg=5)',\n",
    "          'Polynomial Regression(deg=6)', 'Decision Tree']\n",
    "mse_val_values = [mse_random, mse_poly_2_val, mse_poly_3_val, mse_poly_4_val, mse_poly_5_val,\n",
    "                   mse_poly_6_val, mse_tree_val]\n",
    "\n",
    "fig, ax = plt.subplots()\n",
    "bars = ax.bar(models, mse_val_values, color=['blue', 'green', 'orange', 'red', 'cyan', 'maroon', 'gray'])\n",
    "for bar, value in zip(bars, mse_val_values):\n",
    "    yval = bar.get_height()\n",
    "    ax.text(bar.get_x() + bar.get_width() / 2, yval, round(value, 2), ha='center', va='bottom')\n",
    "\n",
    "plt.ylabel('Mean Squared Training Error')\n",
    "plt.xticks(rotation = 90)\n",
    "plt.title('Model Comparison')\n",
    "plt.show()"
   ]
  },
  {
   "cell_type": "code",
   "execution_count": null,
   "id": "d5ca05a0",
   "metadata": {},
   "outputs": [],
   "source": []
  }
 ],
 "metadata": {
  "kernelspec": {
   "display_name": "Python 3 (ipykernel)",
   "language": "python",
   "name": "python3"
  },
  "language_info": {
   "codemirror_mode": {
    "name": "ipython",
    "version": 3
   },
   "file_extension": ".py",
   "mimetype": "text/x-python",
   "name": "python",
   "nbconvert_exporter": "python",
   "pygments_lexer": "ipython3",
   "version": "3.8.18"
  }
 },
 "nbformat": 4,
 "nbformat_minor": 5
}
